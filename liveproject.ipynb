{
  "nbformat": 4,
  "nbformat_minor": 0,
  "metadata": {
    "colab": {
      "name": "liveproject.ipynb",
      "provenance": [],
      "toc_visible": true,
      "mount_file_id": "1nzseQPdATPHgY3M66cWILNDiugWHn4Rn",
      "authorship_tag": "ABX9TyNxsdTdNbeD5WOFpTULY6+6"
    },
    "kernelspec": {
      "name": "python3",
      "display_name": "Python 3"
    }
  },
  "cells": [
    {
      "cell_type": "markdown",
      "metadata": {
        "id": "TeN4_ZdSH9c2"
      },
      "source": [
        "# Summarize news articles with NLP\n",
        "\n",
        "## 1. Loading the Dataset and Segregating the Stories and the Summaries"
      ]
    },
    {
      "cell_type": "markdown",
      "metadata": {
        "id": "Lbe-pXEpaZJd"
      },
      "source": [
        "### Workflow\n",
        "\n",
        "**1. Create a Jupyter Notebook and load the stories**\n",
        "\n",
        "I've chosen colab to create my notebook. I've mounted my Google Drive where the cnn stories are (taken from https://github.com/Manning-LP-What-s-The-News/Starter-Repository/releases/download/v0.1.0/cnn_stories.tgz)\n",
        "\n",
        "This is how I extracted the stories once the compressed files has been uploaded."
      ]
    },
    {
      "cell_type": "code",
      "metadata": {
        "id": "X85DM8nWbpMW"
      },
      "source": [
        "!tar -xzf  'drive/MyDrive/Colab Notebooks/cnn_stories.tgz' -C 'drive/MyDrive/Colab Notebooks'"
      ],
      "execution_count": 5,
      "outputs": []
    },
    {
      "cell_type": "markdown",
      "metadata": {
        "id": "56wTlYKnck9n"
      },
      "source": [
        "**2. Initialise an empty list to store the stories and their highlights**"
      ]
    },
    {
      "cell_type": "code",
      "metadata": {
        "colab": {
          "base_uri": "https://localhost:8080/"
        },
        "id": "11AfsNpYcM1g",
        "outputId": "39ccc4ea-9637-436a-cd87-abbf09a22452"
      },
      "source": [
        "main_list = []\n",
        "main_list"
      ],
      "execution_count": 4,
      "outputs": [
        {
          "output_type": "execute_result",
          "data": {
            "text/plain": [
              "[]"
            ]
          },
          "metadata": {
            "tags": []
          },
          "execution_count": 4
        }
      ]
    },
    {
      "cell_type": "markdown",
      "metadata": {
        "id": "WKo4FxIac2e1"
      },
      "source": [
        "**3. Segregate each story into actual news and their corresponding summaries**"
      ]
    },
    {
      "cell_type": "code",
      "metadata": {
        "id": "kocenMWAIHLQ"
      },
      "source": [
        "from glob import glob\n",
        "\n",
        "\n",
        "cnn_stories_path = \"drive/MyDrive/Colab Notebooks/cnn/stories\"\n",
        "\n",
        "# list all the stories\n",
        "for story_file in glob(f\"{cnn_stories_path}/**/*story\", recursive=True):\n",
        "    with open(story_file, 'r') as f:\n",
        "        story = f.read()\n",
        "        # split the news and summaries\n",
        "        content = story.split(\"@highlight\")\n",
        "        # remove whitespaces surrounding news and highlights\n",
        "        story_dict = {\"news\": content[0].strip(), \"highlights\": [x.strip() for x in content[1:]]}\n",
        "        # append the news and highlights to the main list\n",
        "        main_list.append(story_dict)"
      ],
      "execution_count": 8,
      "outputs": []
    },
    {
      "cell_type": "markdown",
      "metadata": {
        "id": "AyMBuBZpiwBv"
      },
      "source": [
        "Check we have all the 92579 stories"
      ]
    },
    {
      "cell_type": "code",
      "metadata": {
        "colab": {
          "base_uri": "https://localhost:8080/"
        },
        "id": "fkbCT4rJi1-s",
        "outputId": "50bd80ab-e955-4762-8a75-3cf6595493b4"
      },
      "source": [
        "main_list_size = len(main_list)\n",
        "assert main_list_size == 92579, main_list_size\n",
        "main_list_size"
      ],
      "execution_count": 11,
      "outputs": [
        {
          "output_type": "execute_result",
          "data": {
            "text/plain": [
              "92579"
            ]
          },
          "metadata": {
            "tags": []
          },
          "execution_count": 11
        }
      ]
    },
    {
      "cell_type": "markdown",
      "metadata": {
        "id": "dQemyYhZjpj2"
      },
      "source": [
        "Displaying first item in main_list to show the structure"
      ]
    },
    {
      "cell_type": "code",
      "metadata": {
        "colab": {
          "base_uri": "https://localhost:8080/"
        },
        "id": "Eqcsj87JjrA8",
        "outputId": "02b2d509-7f6c-4862-bb49-2d822e402b14"
      },
      "source": [
        "main_list[0]"
      ],
      "execution_count": 12,
      "outputs": [
        {
          "output_type": "execute_result",
          "data": {
            "text/plain": [
              "{'highlights': ['Harry Potter star Daniel Radcliffe gets £20M fortune as he turns 18 Monday',\n",
              "  'Young actor says he has no plans to fritter his cash away',\n",
              "  \"Radcliffe's earnings from first five Potter films have been held in trust fund\"],\n",
              " 'news': 'LONDON, England (Reuters) -- Harry Potter star Daniel Radcliffe gains access to a reported £20 million ($41.1 million) fortune as he turns 18 on Monday, but he insists the money won\\'t cast a spell on him.\\n\\nDaniel Radcliffe as Harry Potter in \"Harry Potter and the Order of the Phoenix\"\\n\\nTo the disappointment of gossip columnists around the world, the young actor says he has no plans to fritter his cash away on fast cars, drink and celebrity parties.\\n\\n\"I don\\'t plan to be one of those people who, as soon as they turn 18, suddenly buy themselves a massive sports car collection or something similar,\" he told an Australian interviewer earlier this month. \"I don\\'t think I\\'ll be particularly extravagant.\\n\\n\"The things I like buying are things that cost about 10 pounds -- books and CDs and DVDs.\"\\n\\nAt 18, Radcliffe will be able to gamble in a casino, buy a drink in a pub or see the horror film \"Hostel: Part II,\" currently six places below his number one movie on the UK box office chart.\\n\\nDetails of how he\\'ll mark his landmark birthday are under wraps. His agent and publicist had no comment on his plans.\\n\\n\"I\\'ll definitely have some sort of party,\" he said in an interview. \"Hopefully none of you will be reading about it.\"\\n\\nRadcliffe\\'s earnings from the first five Potter films have been held in a trust fund which he has not been able to touch.\\n\\nDespite his growing fame and riches, the actor says he is keeping his feet firmly on the ground.\\n\\n\"People are always looking to say \\'kid star goes off the rails,\\'\" he told reporters last month. \"But I try very hard not to go that way because it would be too easy for them.\"\\n\\nHis latest outing as the boy wizard in \"Harry Potter and the Order of the Phoenix\" is breaking records on both sides of the Atlantic and he will reprise the role in the last two films.  Watch I-Reporter give her review of Potter\\'s latest »\\n\\nThere is life beyond Potter, however.\\n\\nThe Londoner has filmed a TV movie called \"My Boy Jack,\" about author Rudyard Kipling and his son, due for release later this year. He will also appear in \"December Boys,\" an Australian film about four boys who escape an orphanage.\\n\\nEarlier this year, he made his stage debut playing a tortured teenager in Peter Shaffer\\'s \"Equus.\"\\n\\nMeanwhile, he is braced for even closer media scrutiny now that he\\'s legally an adult: \"I just think I\\'m going to be more sort of fair game,\" he told Reuters. E-mail to a friend\\n\\nCopyright 2007 Reuters. All rights reserved.This material may not be published, broadcast, rewritten, or redistributed.'}"
            ]
          },
          "metadata": {
            "tags": []
          },
          "execution_count": 12
        }
      ]
    },
    {
      "cell_type": "markdown",
      "metadata": {
        "id": "aoC3TwNtjyM6"
      },
      "source": [
        "Pickle the main list"
      ]
    },
    {
      "cell_type": "code",
      "metadata": {
        "id": "ROHL84vkjuij"
      },
      "source": [
        "import pickle\n",
        "\n",
        "\n",
        "main_list_pickled = pickle.dumps(main_list)"
      ],
      "execution_count": 13,
      "outputs": []
    },
    {
      "cell_type": "markdown",
      "metadata": {
        "id": "apAlyQHbj8Cu"
      },
      "source": [
        "Checking the list has been pickled by displaying first 100 chars"
      ]
    },
    {
      "cell_type": "code",
      "metadata": {
        "colab": {
          "base_uri": "https://localhost:8080/"
        },
        "id": "-I8WFI_WkAxP",
        "outputId": "0814fcba-edd6-4eaa-b36d-1fff9f212237"
      },
      "source": [
        "main_list_pickled[:100]"
      ],
      "execution_count": 14,
      "outputs": [
        {
          "output_type": "execute_result",
          "data": {
            "text/plain": [
              "b'\\x80\\x03]q\\x00(}q\\x01(X\\x04\\x00\\x00\\x00newsq\\x02X\\xed\\t\\x00\\x00LONDON, England (Reuters) -- Harry Potter star Daniel Radcliffe gains acce'"
            ]
          },
          "metadata": {
            "tags": []
          },
          "execution_count": 14
        }
      ]
    }
  ]
}