{
  "nbformat": 4,
  "nbformat_minor": 0,
  "metadata": {
    "colab": {
      "name": "2_summarise_workflow.ipynb",
      "provenance": [],
      "collapsed_sections": [],
      "toc_visible": true,
      "mount_file_id": "1FkqQ_RVvVQcSYAh2xh-EW-JNuNjbuCov",
      "authorship_tag": "ABX9TyObBZlUw46CT6ga+7LqnlXR",
      "include_colab_link": true
    },
    "kernelspec": {
      "name": "python3",
      "display_name": "Python 3"
    },
    "accelerator": "TPU"
  },
  "cells": [
    {
      "cell_type": "markdown",
      "metadata": {
        "id": "view-in-github",
        "colab_type": "text"
      },
      "source": [
        "<a href=\"https://colab.research.google.com/github/kevinetienne/liveprojectnlp/blob/main/2_summarise_workflow.ipynb\" target=\"_parent\"><img src=\"https://colab.research.google.com/assets/colab-badge.svg\" alt=\"Open In Colab\"/></a>"
      ]
    },
    {
      "cell_type": "markdown",
      "metadata": {
        "id": "Je5Mui0ncVef"
      },
      "source": [
        ""
      ]
    },
    {
      "cell_type": "markdown",
      "metadata": {
        "id": "TeN4_ZdSH9c2"
      },
      "source": [
        "# Summarize news articles with NLP\n",
        "\n",
        "## 2. Extracting Summaries from the Stories\n",
        "### 2.1 Preprocessing the Stories and Their Summaries\n",
        "\n"
      ]
    },
    {
      "cell_type": "code",
      "metadata": {
        "colab": {
          "base_uri": "https://localhost:8080/"
        },
        "id": "yVvA4D7XcW_Q",
        "outputId": "571f0a17-d6b5-4a96-9e97-58c161d014db"
      },
      "source": [
        "import pickle\n",
        "\n",
        "\n",
        "# main_list holds list of dict\n",
        "# main_list = [{\"news\": \"...\", \"highlights\": [\"...\"]}]\n",
        "main_list = []\n",
        "with open(\"workflow_1.pkl\", \"rb\") as f:\n",
        "    main_list = pickle.load(f)\n",
        "\n",
        "len(main_list)"
      ],
      "execution_count": 3,
      "outputs": [
        {
          "output_type": "execute_result",
          "data": {
            "text/plain": [
              "92579"
            ]
          },
          "metadata": {
            "tags": []
          },
          "execution_count": 3
        }
      ]
    },
    {
      "cell_type": "markdown",
      "metadata": {
        "id": "sTuGt5rgf-Oa"
      },
      "source": [
        ""
      ]
    },
    {
      "cell_type": "code",
      "metadata": {
        "colab": {
          "base_uri": "https://localhost:8080/"
        },
        "id": "QUeyF2I9gCuD",
        "outputId": "0911d641-df19-4846-8731-2c7d6a35a9b9"
      },
      "source": [
        "# Remove punctuations and digits\n",
        "\n",
        "import string\n",
        "\n",
        "\n",
        "chars_to_remove = string.punctuation + string.digits\n",
        "table = str.maketrans(dict.fromkeys(chars_to_remove))\n",
        "\n",
        "def preprocess(text):\n",
        "    \"\"\"Preprocess the text.\n",
        "\n",
        "    Remove whitespaces with `strip`\n",
        "    Use `translate` to remove punctuations and digits.\n",
        "    Then use `lower` to convert it to lowercase.\n",
        "    And replace \"cnn\" with \"office\".\n",
        "    \"\"\"\n",
        "    return text.strip().translate(table).lower().replace(\"cnn\", \"\")\n",
        "\n",
        "preprocessed_main_list = []\n",
        "for story in main_list:\n",
        "    # split the story\n",
        "    sentences = story[\"news\"].split(\".\")\n",
        "    preprocessed_news = []\n",
        "    for s in sentences:\n",
        "        s_cleaned = preprocess(s)\n",
        "        if len(s_cleaned) > 5:\n",
        "            preprocessed_news.append(s_cleaned)\n",
        "    preprocessed_highlights = [preprocess(h) for h in story[\"highlights\"] if h]\n",
        "    preprocessed_story = {\n",
        "        \"news\": preprocessed_news,\n",
        "        \"highlights\": preprocessed_highlights,\n",
        "    }\n",
        "    preprocessed_main_list.append(preprocessed_story)\n",
        "\n",
        "# check list is still the same size\n",
        "len(preprocessed_main_list)"
      ],
      "execution_count": 24,
      "outputs": [
        {
          "output_type": "execute_result",
          "data": {
            "text/plain": [
              "92579"
            ]
          },
          "metadata": {
            "tags": []
          },
          "execution_count": 24
        }
      ]
    },
    {
      "cell_type": "code",
      "metadata": {
        "colab": {
          "base_uri": "https://localhost:8080/"
        },
        "id": "9zhjmo7kjNlP",
        "outputId": "18d285f9-5385-48aa-b64f-3059b0836bdd"
      },
      "source": [
        "# check first two items\n",
        "preprocessed_main_list[:2]"
      ],
      "execution_count": 25,
      "outputs": [
        {
          "output_type": "execute_result",
          "data": {
            "text/plain": [
              "[{'news': ['your guide to the best new childrens and young adult literature is here',\n",
              "   'the winners of the  newbery caldecott printz coretta scott king and other prestigious youth media awards were announced monday morning by the american library association',\n",
              "   'in addition to books these awards highlight videos and other creative materials produced for children over the past year',\n",
              "   'diverse authors and titles from  such as the crossover by kwame alexander and brown girl dreaming by jacqueline woodson were highlighted with many awards causing the audience to cheer the choices by the committees',\n",
              "   'the caldecott medal went to the adventures of beekle the unimaginary friend illustrated and written by dan santat which follows the journey of an imaginary friend in search of his perfect match',\n",
              "   'the newbery medal was awarded to the crossover by kwame alexander a story about family and brotherhood told through verse by yearold twin basketball players josh and jordan bell',\n",
              "   'parents can use these titles as a guide when considering what books to recommend to their children and teens while teachers and librarians look to the awardwinning and runnerup titles as a helpful list of what to keep on the shelves in classrooms and libraries',\n",
              "   'the ala youth media awards were announced during the organizations winter meeting in chicago and selected by a national judging committee of librarians and childrens literature experts',\n",
              "   'heres the list of winners\\n\\njohn newbery medal for most outstanding contribution to childrens literature\\n\\nthe crossover written by kwame alexander\\n\\nhonor books\\n\\nel deafo written and illustrated by cece bell\\n\\nbrown girl dreaming written by jacqueline woodson\\n\\nlemony snicket author sorry for racist joke at national book awards\\n\\nrandolph caldecott medal for the most distinguished american picture book for children\\n\\nthe adventures of beekle the unimaginary friend illustrated and written by dan santat\\n\\nhonor books\\n\\nnana in the city illustrated and written by lauren castillo\\n\\nthe noisy paint box the colors and sounds of kandinskys abstract art illustrated by mary grandpré and written by barb rosenstock\\n\\nsam and dave dig a hole illustrated by jon klassen\\n\\nviva frida illustrated and written by  yuyi morales\\n\\nthe right word roget and his thesaurus written by jen bryant and illustrated by melissa sweet\\n\\nthis one summer illustrated by jillian tamaki and written by mariko tamaki\\n\\ncoretta scott king awards for an africanamerican author and illustrator\\n\\nauthor award jacqueline woodson for brown girl dreaming\\n\\nillustrator award christopher myers for firebird written by misty copeland\\n\\nhonor books\\n\\nillustrator christian robinson for josephine the dazzling life of josephine baker written by patricia powell\\n\\nillustrator frank morrison for little melba and her big trombone written by katheryn russellbrown\\n\\nauthor kwame alexander for the crossover\\n\\nauthor marilyn nelson for how i discovered poetry illustrated by hadley cooper\\n\\nauthor kekla magoon for how it went down\\n\\ncoretta scott kingjohn steptoe new talent award\\n\\nauthor jason reynolds for when i was the greatest\\n\\ncoretta scott kingvirginia hamilton award for lifetime achievement for illustratorauthor\\n\\ndeborah d',\n",
              "   'taylor\\n\\nmargaret a',\n",
              "   'edwards award for an authors significant and lasting contribution to young adult literature\\n\\nsharon m',\n",
              "   'draper for tears of a tiger forged by fire darkness before dawn the battle of jericho november blues and copper sun',\n",
              "   '\\n\\ndiversity in young adult fiction\\n\\nmay hill arbuthnot honor lecture recognizing an author critic librarian historian or teacher of childrens literature\\n\\nauthor pat mora will deliver the  arbuthnot lecture',\n",
              "   'pura belpre awards for a latino writer and illustrator whose childrens books best portray affirm and celebrate the latino cultural experience\\n\\nillustrator yuyi morales for viva frida\\n\\nauthor marjorie agosin for i lived on butterfly hill illustrated by lee white\\n\\nhonor books\\n\\nillustrator susan guevara for little roja riding hood written by susan middleton elya\\n\\nillustrator john parra for green is a chile pepper written by roseanne greenfield thong\\n\\nillustrator duncan tonatieuh for separate is never equal sylvia mendez and her familys fight for desegregation\\n\\nauthor juan felipe herrera for portraits of hispanic american heroes\\n\\nlaura ingalls wilder award honoring an author or illustrator whose books published in the u',\n",
              "   ' have made a substantial and lasting contribution to literature for children',\n",
              "   'donald crews\\n\\nstonewall book award the mike morgan  larry romans childrens  young adult literature award for books of exceptional merit relating to the gay lesbian bisexual and transgender experience\\n\\nthis day in june  written by gayle e',\n",
              "   'pitman and illustrated by kristyna litten\\n\\nhonor books\\n\\nbeyond magenta transgender teens speak out written and photographed by susan kuklin\\n\\nill give you the sun written by jandy nelson\\n\\nmorris micklewhite and the tangerine dress written by christine baldacchio and illustrated by isabelle malenfant\\n\\nschneider family book award for books that embody an artistic expression of the disability experience\\n\\nyoung childrens book a boy and a jaguar written by alan rabinowitz and illustrated by catia chien\\n\\nmiddle grade book rain reign written by ann m',\n",
              "   'martin\\n\\nteen book girls like us written by gail giles\\n\\nan interview with ann m',\n",
              "   'martin on rain reign\\n\\nmichael l',\n",
              "   'printz award for excellence in literature written for young adults\\n\\nill give you the sun by jandy nelson\\n\\nhonor books\\n\\nand we stay by jenny hubbard\\n\\nthe carnival at bray by jessie ann foley\\n\\ngrasshopper jungle by andrew smith\\n\\nthis one summer by mariko tamaki illustrated by jillian tamaki\\n\\ntheodor seuss geisel award for beginning reader book\\n\\nyou are not small written by anna kang and illustrated by christopher weyant\\n\\nhonor books\\n\\nmr',\n",
              "   'putter and tabby turn the page written by cynthia rylant and illustrated by arthur howard\\n\\nwaiting is not easy written and illustrated by mo willems\\n\\nwilliam c',\n",
              "   'morris award for a debut book published by a firsttime author writing for teens\\n\\ngabi a girl in pieces written by isabel quintero\\n\\nfinalists\\n\\nthe carnival at bray written by jessie ann foley\\n\\nthe story of owen dragon slayer of trondheim written by e',\n",
              "   'johnston\\n\\nthe scar boys written by len vlahos\\n\\nthe strange and beautiful sorrows of ava lavender written by leslye walton\\n\\nmeet the morris award finalists\\n\\nrobert f',\n",
              "   'sibert informational book award for informational books for children\\n\\nthe right word roget and his thesaurus written by jen bryant and illustrated by melissa sweet\\n\\nhonor books\\n\\nbrown girl dreaming written by jacqueline woodson\\n\\nthe family romanov murder rebellion  the fall of imperial russia written by candace fleming\\n\\njosephine the dazzling life of josephine baker written by patricia powell and illustrated by christian robinson\\n\\nneighborhood sharks hunting with the great whites of californias farallon islands illustrated and written by katherine roy\\n\\nseparate is never equal sylvia mendez and her familys fight for desegregation illustrated and written by duncan tonatieuh\\n\\nyalsa award for excellence in nonfiction for young adults\\n\\npopular vintage wisdom for a modern geek written by maya van wagenen\\n\\nfinalists\\n\\nlaughing at my nightmare written by shane burcaw\\n\\nthe family romanov murder rebellion  the fall of imperial russia written by candace fleming\\n\\nida m',\n",
              "   'tarbell the woman who challenged big business  and won written by emily arnold mccully\\n\\nthe port chicago  disaster mutiny and the fight for civil rights written by steve sheinkin\\n\\nmildred l',\n",
              "   'batchelder award for a book published in a language other than english in a country other than the united states and subsequently translated into english for publication in the united states\\n\\nmikis and the donkey written by bibi dumon tak and illustrated by philip hopman\\n\\nhonor books\\n\\nhidden a childs story of the holocaust written by loic dauvillier and greg salsedo illustrated by marc lizano\\n\\nnine open arms written by benny lindelauf\\n\\nodyssey award for best audiobook for children and young adults\\n\\nh',\n",
              "   ' a game of basketball and imagination produced by live oak media written by christopher myers and narrated by dion graham\\n\\nhonor audiobooks\\n\\nfive six seven nate produced by simon  schuster audio narrated and written by tim federle\\n\\nthe scandalous sisterhood of prickwillow place produced by listening library  written by julie berry narrated by jayne entwistle\\n\\na snicker of magic produced by scholastic written by natalie lloyd narrated by cassandra morris\\n\\nandrew carnegie medal for childrens video\\n\\nme',\n",
              "   'jane produced by paul r',\n",
              "   'gagne and melissa reilly elllard weston woods studios\\n\\nalex awards for  adult books that appeal to teens\\n\\nall the light we cannot see by anthony doerr\\n\\nbellweather rhapsody by kate racculia\\n\\nbingos run by james a',\n",
              "   'levine\\n\\nconfessions by kanae minato translated by stephen snyder\\n\\neverything i never told you by celeste ng\\n\\nlock in by john scalzi\\n\\nthe martian by andy weir\\n\\nthe terrorists son a story of choice by zak ebrahim with jeff giles\\n\\nthose who wish me dead by michael koryta\\n\\nwolf in white van by john darnielle'],\n",
              "  'highlights': ['the winners of the newbery caldecott printz and other prestigious awards were announced']},\n",
              " {'news': ['there are tiring commutes',\n",
              "   'and then theres james robertsons commute',\n",
              "   'the yearold detroit man walks  miles every weekday as part of his journey to and from the factory where he works',\n",
              "   'i never thought anything i did would garner this much attention robertson said',\n",
              "   'robertson takes the bus some of the way but for the past decade ever since his car broke down he has trudged the better part of a marathon each workday',\n",
              "   'rain snow or shine',\n",
              "   'after reading about robertsons commute in a detroit free press article from over the weekend college student evan leedy was moved',\n",
              "   'like robertson the yearold lives and works in two counties so he spends a great deal of time commuting himself',\n",
              "   'but leedy has a car',\n",
              "   'leedy decided to set up an online fundraiser to buy robertson a new car',\n",
              "   'my first car cost  leedy said so i set the goal at ',\n",
              "   'within an hour wed raised ',\n",
              "   '\\n\\nleedys fundraiser on gofundme has blown past its original goal reaching more than  by tuesday evening',\n",
              "   'robertson in a video message posted on the free press website gave thanks',\n",
              "   'everybody calls me the inspiration but to those who have been great enough to donate and everything',\n",
              "   'it was really so welcome that i dont know what to tell you he said',\n",
              "   'you guys are the heroes',\n",
              "   '\\n\\ncomments on the page from people donating money suggested that the story of robertsons dedication to getting to work had tapped into a deep well of public feeling',\n",
              "   'thank you for inspiring me and hopefully tons of other people to persevere in the face of adversity said a contributor by the name of kevin lemelle',\n",
              "   'you are a true american hero',\n",
              "   '\\n\\nwe could use more men like james robertson in this world wrote a donor named betty blanchard',\n",
              "   'blake pollack identifies with the strangers words of support',\n",
              "   'he first spotted robertson during his own work commute a year and a half ago',\n",
              "   'climbing over snow banks when it was pouring down rain in the summer pollack said whatever the weather he was there',\n",
              "   '\\n\\npollack approached robertson who told the financial executive his story',\n",
              "   'pollack promised to give him a ride the next time he saw him',\n",
              "   'two to three months later i saw him on a corner pollack remembered and i asked if he needed a ride to work',\n",
              "   '\\n\\npollack estimates hes given robertson between  and  rides since then and the two men from vastly different worlds have formed an unlikely friendship',\n",
              "   'the pleasure pollack said has been all his',\n",
              "   'im the lucky one pollack said',\n",
              "   'driving him around isnt a chore its a reward',\n",
              "   '\\n\\npollack said robertson is inspirational and funny adding that his work ethic puts anyone to shame',\n",
              "   'i set our attendance standard by this man todd wilson plant manager at the engineering factory told the newspaper',\n",
              "   'i say if this man can get here walking all those miles through snow and rain well ill tell you i have people in pontiac  minutes away and they say they cant get here  bull\\n\\nrobertson apparently has a perfect attendance record',\n",
              "   'he earns ',\n",
              "   ' an hour not enough to save up to buy insure and operate a car in the city according to the newspaper',\n",
              "   'with the online donations now topping  robertson pollack and leedy met together for the first time monday night',\n",
              "   'the overwhelming support has extended beyond money  and several car dealerships have offered to give him a vehicle outright',\n",
              "   'now that the effort is so big theres so much more to think about leedy said',\n",
              "   'there are unfortunately people who want to take advantage of robertsons newfound celebrity and his generosity pollack said',\n",
              "   'he put together a team that includes an attorney from a large law firm in michigan a cpa and a certified financial planner that he says will ensure the donation money is handled appropriately and in a way that best serves robertson',\n",
              "   'this money that is being given to him  he earned every penny of it leedy said just by his work ethic and his attitude',\n",
              "   'hes been making the arduous mile journey from detroit to rochester hills since his  honda accord gave up on him',\n",
              "   'the donations mean that robertsons mode of transportation will likely soon be changing and without the long commute hell probably be getting a lot more sleep',\n",
              "   'but he loves where he works so he has no plans to change much else',\n",
              "   'i cant imagine not working robertson said',\n",
              "   'its what ive always done',\n",
              "   '\\n\\nrobertson in his message said he never expected as much support as he has received',\n",
              "   'he encouraged people to look out for one another',\n",
              "   'if this story will touch at least one person and inspire them to do something out of the goodness of their heart i will be the happiest person alive he said',\n",
              "   's phil gast contributed to this report'],\n",
              "  'highlights': ['detroit man thanks supporters',\n",
              "   'james robertson has done much of his long journey to work on foot since his car broke down',\n",
              "   'a newspaper article about his daunting commute spurs online fundraisers to buy new car',\n",
              "   'we could use more men like james robertson in this world one donor writes']}]"
            ]
          },
          "metadata": {
            "tags": []
          },
          "execution_count": 25
        }
      ]
    },
    {
      "cell_type": "markdown",
      "metadata": {
        "id": "csRKes6OkXrj"
      },
      "source": [
        "### 2.2 Extracting Summaries from the Stories with ROUGE Score"
      ]
    },
    {
      "cell_type": "markdown",
      "metadata": {
        "id": "esWzK6Okktv6"
      },
      "source": [
        "Install rouge"
      ]
    },
    {
      "cell_type": "code",
      "metadata": {
        "id": "hsusj5A5kjoH"
      },
      "source": [
        "!pip install rouge"
      ],
      "execution_count": null,
      "outputs": []
    },
    {
      "cell_type": "markdown",
      "metadata": {
        "id": "jSX5gZGrFSE5"
      },
      "source": [
        "Extracting f1 score for every news sentences (hypothesis) against each highlights (references)"
      ]
    },
    {
      "cell_type": "code",
      "metadata": {
        "colab": {
          "base_uri": "https://localhost:8080/"
        },
        "id": "2GIW-6Tmkw1b",
        "outputId": "17436757-0901-4919-98cf-823b01d29b39"
      },
      "source": [
        "import time\n",
        "\n",
        "from rouge import Rouge\n",
        "\n",
        "\n",
        "rouge = Rouge()\n",
        "\n",
        "# for each sentences in the story and for each hypothesis calculate rouge score.\n",
        "results = []\n",
        "size = len(preprocessed_main_list)\n",
        "tic = time.perf_counter()\n",
        "for idx, story in enumerate(preprocessed_main_list):\n",
        "    if ((idx + 1) % 1000 == 0):\n",
        "        toc = time.perf_counter()\n",
        "        t = toc - tic\n",
        "        print(\"Processing {}/{} ({} secs)\".format(idx + 1, size, t))\n",
        "        tic = time.perf_counter()\n",
        "    hypothesis = [x for x in story[\"news\"]]\n",
        "    hypothesis_size = len(hypothesis) \n",
        "    story_highlight_scores = {}\n",
        "\n",
        "    for reference in story[\"highlights\"]:\n",
        "        scores = rouge.get_scores(hypothesis, [reference] * hypothesis_size)\n",
        "\n",
        "        # collect only f1 score\n",
        "        scoresf1 = [score[\"rouge-1\"][\"f\"] for score in scores]\n",
        "        top5 = sorted(scoresf1, reverse=True)[:5]\n",
        "        scores = []\n",
        "        for top in top5:\n",
        "          idx = scoresf1.index(top)\n",
        "          scores.append({hypothesis[idx]: top})\n",
        "        story_highlight_scores[reference] = scores\n",
        "\n",
        "    results.append(story_highlight_scores)"
      ],
      "execution_count": 26,
      "outputs": [
        {
          "output_type": "stream",
          "text": [
            "Processing 1000/92579 (64.05570191101287 secs)\n",
            "Processing 2000/92579 (55.00178514199797 secs)\n",
            "Processing 3000/92579 (34.859819326986326 secs)\n",
            "Processing 4000/92579 (38.42961579200346 secs)\n",
            "Processing 5000/92579 (39.32746518799104 secs)\n",
            "Processing 6000/92579 (38.90023352098069 secs)\n",
            "Processing 7000/92579 (39.837506090989336 secs)\n",
            "Processing 8000/92579 (39.3243066839932 secs)\n",
            "Processing 9000/92579 (38.42691326097702 secs)\n",
            "Processing 10000/92579 (38.97155493500759 secs)\n",
            "Processing 11000/92579 (38.092573325004196 secs)\n",
            "Processing 12000/92579 (39.972597640997265 secs)\n",
            "Processing 13000/92579 (37.486394456995185 secs)\n",
            "Processing 14000/92579 (37.77527989799273 secs)\n",
            "Processing 15000/92579 (40.63450039498275 secs)\n",
            "Processing 16000/92579 (40.920778077997966 secs)\n",
            "Processing 17000/92579 (37.13438914300059 secs)\n",
            "Processing 18000/92579 (42.85024805399007 secs)\n",
            "Processing 19000/92579 (44.72600366099505 secs)\n",
            "Processing 20000/92579 (45.31561582698487 secs)\n",
            "Processing 21000/92579 (38.8217434649996 secs)\n",
            "Processing 22000/92579 (38.73363476200029 secs)\n",
            "Processing 23000/92579 (47.67629578601918 secs)\n",
            "Processing 24000/92579 (43.814403769996716 secs)\n",
            "Processing 25000/92579 (38.6852665960032 secs)\n",
            "Processing 26000/92579 (36.44703107699752 secs)\n",
            "Processing 27000/92579 (40.506182534008985 secs)\n",
            "Processing 28000/92579 (41.57341725900187 secs)\n",
            "Processing 29000/92579 (41.57571657499648 secs)\n",
            "Processing 30000/92579 (35.855589459009934 secs)\n",
            "Processing 31000/92579 (35.83057617902523 secs)\n",
            "Processing 32000/92579 (40.06828329002019 secs)\n",
            "Processing 33000/92579 (43.34440311600338 secs)\n",
            "Processing 34000/92579 (39.84460590701201 secs)\n",
            "Processing 35000/92579 (34.20888646799722 secs)\n",
            "Processing 36000/92579 (37.27839133501402 secs)\n",
            "Processing 37000/92579 (41.390750841004774 secs)\n",
            "Processing 38000/92579 (39.92108862797613 secs)\n",
            "Processing 39000/92579 (34.60912446898874 secs)\n",
            "Processing 40000/92579 (34.64174308301881 secs)\n",
            "Processing 41000/92579 (41.39038981599151 secs)\n",
            "Processing 42000/92579 (43.49041746801231 secs)\n",
            "Processing 43000/92579 (36.885592288017506 secs)\n",
            "Processing 44000/92579 (37.77340694901068 secs)\n",
            "Processing 45000/92579 (41.55364644501242 secs)\n",
            "Processing 46000/92579 (39.345649244001834 secs)\n",
            "Processing 47000/92579 (34.71458552501281 secs)\n",
            "Processing 48000/92579 (41.221513815020444 secs)\n",
            "Processing 49000/92579 (41.149474217003444 secs)\n",
            "Processing 50000/92579 (43.8019906260015 secs)\n",
            "Processing 51000/92579 (37.298637850995874 secs)\n",
            "Processing 52000/92579 (41.342266232997645 secs)\n",
            "Processing 53000/92579 (40.00579232300515 secs)\n",
            "Processing 54000/92579 (36.32842798999627 secs)\n",
            "Processing 55000/92579 (33.54310499699204 secs)\n",
            "Processing 56000/92579 (39.360288253985345 secs)\n",
            "Processing 57000/92579 (38.31098620398552 secs)\n",
            "Processing 58000/92579 (36.142038057005266 secs)\n",
            "Processing 59000/92579 (33.98368465900421 secs)\n",
            "Processing 60000/92579 (38.784842790977564 secs)\n",
            "Processing 61000/92579 (36.56807107498753 secs)\n",
            "Processing 62000/92579 (38.479885626002215 secs)\n",
            "Processing 63000/92579 (32.96184582301066 secs)\n",
            "Processing 64000/92579 (32.086080529988976 secs)\n",
            "Processing 65000/92579 (36.62685172498459 secs)\n",
            "Processing 66000/92579 (35.44363870998495 secs)\n",
            "Processing 67000/92579 (34.79614939299063 secs)\n",
            "Processing 68000/92579 (33.5245139359904 secs)\n",
            "Processing 69000/92579 (30.082608521013753 secs)\n",
            "Processing 70000/92579 (32.63146285901894 secs)\n",
            "Processing 71000/92579 (34.484052430983866 secs)\n",
            "Processing 72000/92579 (34.10781075898558 secs)\n",
            "Processing 73000/92579 (35.60093637101818 secs)\n",
            "Processing 74000/92579 (27.630363368982216 secs)\n",
            "Processing 75000/92579 (26.740597001014976 secs)\n",
            "Processing 76000/92579 (32.26966249101679 secs)\n",
            "Processing 77000/92579 (36.84405531198718 secs)\n",
            "Processing 78000/92579 (37.26662514198688 secs)\n",
            "Processing 79000/92579 (35.13773267500801 secs)\n",
            "Processing 80000/92579 (32.591854441998294 secs)\n",
            "Processing 81000/92579 (35.94794862199342 secs)\n",
            "Processing 82000/92579 (39.13781919499161 secs)\n",
            "Processing 83000/92579 (38.79902258599759 secs)\n",
            "Processing 84000/92579 (37.81526155601023 secs)\n",
            "Processing 85000/92579 (32.83415800301009 secs)\n",
            "Processing 86000/92579 (33.64043962699361 secs)\n",
            "Processing 87000/92579 (36.4160615040164 secs)\n",
            "Processing 88000/92579 (36.47134340199409 secs)\n",
            "Processing 89000/92579 (36.524106716009555 secs)\n",
            "Processing 90000/92579 (34.93649109598482 secs)\n",
            "Processing 91000/92579 (30.182848690019455 secs)\n",
            "Processing 92000/92579 (29.66940181699465 secs)\n"
          ],
          "name": "stdout"
        }
      ]
    },
    {
      "cell_type": "markdown",
      "metadata": {
        "id": "3KCAiQc-FnFB"
      },
      "source": [
        "Display first 2 stories scores"
      ]
    },
    {
      "cell_type": "code",
      "metadata": {
        "colab": {
          "base_uri": "https://localhost:8080/"
        },
        "id": "tpQM4UCSQnfS",
        "outputId": "9847e7fb-32c4-43a2-a026-71a8b7aaa50e"
      },
      "source": [
        "results[:2]"
      ],
      "execution_count": 27,
      "outputs": [
        {
          "output_type": "execute_result",
          "data": {
            "text/plain": [
              "[{'the winners of the newbery caldecott printz and other prestigious awards were announced': [{'the winners of the  newbery caldecott printz coretta scott king and other prestigious youth media awards were announced monday morning by the american library association': 0.6842105218144046},\n",
              "   {'the ala youth media awards were announced during the organizations winter meeting in chicago and selected by a national judging committee of librarians and childrens literature experts': 0.34999999561250006},\n",
              "   {'in addition to books these awards highlight videos and other creative materials produced for children over the past year': 0.2499999951757813},\n",
              "   {'the caldecott medal went to the adventures of beekle the unimaginary friend illustrated and written by dan santat which follows the journey of an imaginary friend in search of his perfect match': 0.2222222181135803},\n",
              "   {'diverse authors and titles from  such as the crossover by kwame alexander and brown girl dreaming by jacqueline woodson were highlighted with many awards causing the audience to cheer the choices by the committees': 0.21276595344499782}]},\n",
              " {'detroit man thanks supporters': [{'the yearold detroit man walks  miles every weekday as part of his journey to and from the factory where he works': 0.15999999731200001},\n",
              "   {'robertson in a video message posted on the free press website gave thanks': 0.11764705522491362},\n",
              "   {'i set our attendance standard by this man todd wilson plant manager at the engineering factory told the newspaper': 0.0869565188657846},\n",
              "   {'hes been making the arduous mile journey from detroit to rochester hills since his  honda accord gave up on him': 0.08333333055555565},\n",
              "   {'after reading about robertsons commute in a detroit free press article from over the weekend college student evan leedy was moved': 0.07999999731200008}],\n",
              "  'james robertson has done much of his long journey to work on foot since his car broke down': [{'robertson takes the bus some of the way but for the past decade ever since his car broke down he has trudged the better part of a marathon each workday': 0.33333332864583337},\n",
              "   {'hes been making the arduous mile journey from detroit to rochester hills since his  honda accord gave up on him': 0.2631578897506926},\n",
              "   {'\\n\\nrobertson in his message said he never expected as much support as he has received': 0.24242423746556482},\n",
              "   {'this money that is being given to him  he earned every penny of it leedy said just by his work ethic and his attitude': 0.23809523319727902},\n",
              "   {'\\n\\npollack said robertson is inspirational and funny adding that his work ethic puts anyone to shame': 0.23529411266435996}],\n",
              "  'a newspaper article about his daunting commute spurs online fundraisers to buy new car': [{'leedy decided to set up an online fundraiser to buy robertson a new car': 0.4285714235714286},\n",
              "   {' an hour not enough to save up to buy insure and operate a car in the city according to the newspaper': 0.28571428091428575},\n",
              "   {'after reading about robertsons commute in a detroit free press article from over the weekend college student evan leedy was moved': 0.22857142377142864},\n",
              "   {'but leedy has a car': 0.21052631191135737},\n",
              "   {'he first spotted robertson during his own work commute a year and a half ago': 0.20689654673008337}],\n",
              "  'we could use more men like james robertson in this world one donor writes': [{'\\n\\nwe could use more men like james robertson in this world wrote a donor named betty blanchard': 0.774193543433923},\n",
              "   {'like robertson the yearold lives and works in two counties so he spends a great deal of time commuting himself': 0.17647058339100358},\n",
              "   {'i never thought anything i did would garner this much attention robertson said': 0.14814814315500704},\n",
              "   {'i never thought anything i did would garner this much attention robertson said': 0.14814814315500704},\n",
              "   {'\\n\\nrobertson in his message said he never expected as much support as he has received': 0.1379310294887041}]}]"
            ]
          },
          "metadata": {
            "tags": []
          },
          "execution_count": 27
        }
      ]
    },
    {
      "cell_type": "markdown",
      "metadata": {
        "id": "X7qzihHfYiZX"
      },
      "source": [
        "Prepare the list for the dataframe"
      ]
    },
    {
      "cell_type": "code",
      "metadata": {
        "colab": {
          "base_uri": "https://localhost:8080/"
        },
        "id": "Fc3XQc5nYkI3",
        "outputId": "a72caa12-1fa8-422e-9dd1-b44112fa1def"
      },
      "source": [
        "# story id, sentence id, sentence, summary candidate\n",
        "data = []\n",
        "\n",
        "for story_id, story in enumerate(preprocessed_main_list):\n",
        "    for sentence_id, sentence in enumerate(story[\"news\"]):\n",
        "        # check if the sentence appears in one of the top 5 scores for each reference (highlights)\n",
        "        summary_candidate = 0\n",
        "        for _, top5_scores in results[story_id].items():\n",
        "            top5_sentences = {k for d in top5_scores for k in d.keys()}\n",
        "            if sentence in top5_sentences:\n",
        "                data.append([story_id, sentence_id, sentence, 1])\n",
        "            else:\n",
        "                data.append([story_id, sentence_id, sentence, 0])\n",
        "\n",
        "# check first two rows\n",
        "data[:2]"
      ],
      "execution_count": 50,
      "outputs": [
        {
          "output_type": "execute_result",
          "data": {
            "text/plain": [
              "[[0,\n",
              "  0,\n",
              "  'your guide to the best new childrens and young adult literature is here',\n",
              "  0],\n",
              " [0,\n",
              "  1,\n",
              "  'the winners of the  newbery caldecott printz coretta scott king and other prestigious youth media awards were announced monday morning by the american library association',\n",
              "  1]]"
            ]
          },
          "metadata": {
            "tags": []
          },
          "execution_count": 50
        }
      ]
    },
    {
      "cell_type": "markdown",
      "metadata": {
        "id": "QijXgdDoaFdg"
      },
      "source": [
        "Build the dataframe"
      ]
    },
    {
      "cell_type": "code",
      "metadata": {
        "colab": {
          "base_uri": "https://localhost:8080/",
          "height": 206
        },
        "id": "CJ0YJWl4aO39",
        "outputId": "075294fd-bd6e-4737-ea65-aeac4a2199c1"
      },
      "source": [
        "import pandas as pd\n",
        "\n",
        "\n",
        "df = pd.DataFrame(data, columns=[\"story_id\", \"sentence_id\", \"sentence\", \"summary_candidate\"])\n",
        "\n",
        "# check first story for summary candidates\n",
        "df[(df[\"story_id\"] == 0) & (df[\"summary_candidate\"] == 1)]"
      ],
      "execution_count": 51,
      "outputs": [
        {
          "output_type": "execute_result",
          "data": {
            "text/plain": [
              "   story_id  sentence_id                                           sentence  \\\n",
              "1         0            1  the winners of the  newbery caldecott printz c...   \n",
              "2         0            2  in addition to books these awards highlight vi...   \n",
              "3         0            3  diverse authors and titles from  such as the c...   \n",
              "4         0            4  the caldecott medal went to the adventures of ...   \n",
              "7         0            7  the ala youth media awards were announced duri...   \n",
              "\n",
              "   summary_candidate  \n",
              "1                  1  \n",
              "2                  1  \n",
              "3                  1  \n",
              "4                  1  \n",
              "7                  1  "
            ],
            "text/html": [
              "<div>\n",
              "<style scoped>\n",
              "    .dataframe tbody tr th:only-of-type {\n",
              "        vertical-align: middle;\n",
              "    }\n",
              "\n",
              "    .dataframe tbody tr th {\n",
              "        vertical-align: top;\n",
              "    }\n",
              "\n",
              "    .dataframe thead th {\n",
              "        text-align: right;\n",
              "    }\n",
              "</style>\n",
              "<table border=\"1\" class=\"dataframe\">\n",
              "  <thead>\n",
              "    <tr style=\"text-align: right;\">\n",
              "      <th></th>\n",
              "      <th>story_id</th>\n",
              "      <th>sentence_id</th>\n",
              "      <th>sentence</th>\n",
              "      <th>summary_candidate</th>\n",
              "    </tr>\n",
              "  </thead>\n",
              "  <tbody>\n",
              "    <tr>\n",
              "      <th>1</th>\n",
              "      <td>0</td>\n",
              "      <td>1</td>\n",
              "      <td>the winners of the  newbery caldecott printz c...</td>\n",
              "      <td>1</td>\n",
              "    </tr>\n",
              "    <tr>\n",
              "      <th>2</th>\n",
              "      <td>0</td>\n",
              "      <td>2</td>\n",
              "      <td>in addition to books these awards highlight vi...</td>\n",
              "      <td>1</td>\n",
              "    </tr>\n",
              "    <tr>\n",
              "      <th>3</th>\n",
              "      <td>0</td>\n",
              "      <td>3</td>\n",
              "      <td>diverse authors and titles from  such as the c...</td>\n",
              "      <td>1</td>\n",
              "    </tr>\n",
              "    <tr>\n",
              "      <th>4</th>\n",
              "      <td>0</td>\n",
              "      <td>4</td>\n",
              "      <td>the caldecott medal went to the adventures of ...</td>\n",
              "      <td>1</td>\n",
              "    </tr>\n",
              "    <tr>\n",
              "      <th>7</th>\n",
              "      <td>0</td>\n",
              "      <td>7</td>\n",
              "      <td>the ala youth media awards were announced duri...</td>\n",
              "      <td>1</td>\n",
              "    </tr>\n",
              "  </tbody>\n",
              "</table>\n",
              "</div>"
            ]
          },
          "metadata": {
            "tags": []
          },
          "execution_count": 51
        }
      ]
    },
    {
      "cell_type": "markdown",
      "metadata": {
        "id": "wEC-rT8OaSBJ"
      },
      "source": [
        "Save in pickle format"
      ]
    },
    {
      "cell_type": "code",
      "metadata": {
        "id": "CwIccM7obwQ7"
      },
      "source": [
        "import pickle\n",
        "\n",
        "\n",
        "main_list_pickled = pickle.dumps(df)\n",
        "with open(\"workflow_2.pkl\", \"wb\") as f:\n",
        "    f.write(main_list_pickled)\n",
        "    f.close()"
      ],
      "execution_count": 52,
      "outputs": []
    }
  ]
}